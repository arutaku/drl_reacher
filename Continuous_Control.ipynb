{
 "cells": [
  {
   "cell_type": "markdown",
   "metadata": {},
   "source": [
    "# Continuous Control\n",
    "\n",
    "---\n",
    "\n",
    "In this notebook, you will learn how to use the Unity ML-Agents environment for the second project of the [Deep Reinforcement Learning Nanodegree](https://www.udacity.com/course/deep-reinforcement-learning-nanodegree--nd893) program.\n",
    "\n",
    "### 1. Start the Environment\n",
    "\n",
    "We begin by importing the necessary packages.  If the code cell below returns an error, please revisit the project instructions to double-check that you have installed [Unity ML-Agents](https://github.com/Unity-Technologies/ml-agents/blob/master/docs/Installation.md) and [NumPy](http://www.numpy.org/)."
   ]
  },
  {
   "cell_type": "code",
   "execution_count": 1,
   "metadata": {},
   "outputs": [],
   "source": [
    "import random\n",
    "\n",
    "import torch\n",
    "import numpy as np\n",
    "from unityagents import UnityEnvironment\n",
    "import matplotlib.pyplot as plt\n",
    "%matplotlib inline\n",
    "\n",
    "from agent import Agent, ReplayBuffer"
   ]
  },
  {
   "cell_type": "markdown",
   "metadata": {},
   "source": [
    "Next, we will start the environment!  **_Before running the code cell below_**, change the `file_name` parameter to match the location of the Unity environment that you downloaded.\n",
    "\n",
    "- **Mac**: `\"path/to/Reacher.app\"`\n",
    "- **Windows** (x86): `\"path/to/Reacher_Windows_x86/Reacher.exe\"`\n",
    "- **Windows** (x86_64): `\"path/to/Reacher_Windows_x86_64/Reacher.exe\"`\n",
    "- **Linux** (x86): `\"path/to/Reacher_Linux/Reacher.x86\"`\n",
    "- **Linux** (x86_64): `\"path/to/Reacher_Linux/Reacher.x86_64\"`\n",
    "- **Linux** (x86, headless): `\"path/to/Reacher_Linux_NoVis/Reacher.x86\"`\n",
    "- **Linux** (x86_64, headless): `\"path/to/Reacher_Linux_NoVis/Reacher.x86_64\"`\n",
    "\n",
    "For instance, if you are using a Mac, then you downloaded `Reacher.app`.  If this file is in the same folder as the notebook, then the line below should appear as follows:\n",
    "```\n",
    "env = UnityEnvironment(file_name=\"Reacher.app\")\n",
    "```"
   ]
  },
  {
   "cell_type": "code",
   "execution_count": 2,
   "metadata": {},
   "outputs": [
    {
     "name": "stderr",
     "output_type": "stream",
     "text": [
      "INFO:unityagents:\n",
      "'Academy' started successfully!\n",
      "Unity Academy name: Academy\n",
      "        Number of Brains: 1\n",
      "        Number of External Brains : 1\n",
      "        Lesson number : 0\n",
      "        Reset Parameters :\n",
      "\t\tgoal_speed -> 1.0\n",
      "\t\tgoal_size -> 5.0\n",
      "Unity brain name: ReacherBrain\n",
      "        Number of Visual Observations (per agent): 0\n",
      "        Vector Observation space type: continuous\n",
      "        Vector Observation space size (per agent): 33\n",
      "        Number of stacked Vector Observation: 1\n",
      "        Vector Action space type: continuous\n",
      "        Vector Action space size (per agent): 4\n",
      "        Vector Action descriptions: , , , \n"
     ]
    }
   ],
   "source": [
    "env = UnityEnvironment(file_name='Reacher_Linux_20/Reacher.x86_64')"
   ]
  },
  {
   "cell_type": "markdown",
   "metadata": {},
   "source": [
    "Environments contain **_brains_** which are responsible for deciding the actions of their associated agents. Here we check for the first brain available, and set it as the default brain we will be controlling from Python."
   ]
  },
  {
   "cell_type": "code",
   "execution_count": 3,
   "metadata": {},
   "outputs": [],
   "source": [
    "# get the default brain\n",
    "brain_name = env.brain_names[0]\n",
    "brain = env.brains[brain_name]"
   ]
  },
  {
   "cell_type": "markdown",
   "metadata": {},
   "source": [
    "### 2. Examine the State and Action Spaces\n",
    "\n",
    "In this environment, a double-jointed arm can move to target locations. A reward of `+0.1` is provided for each step that the agent's hand is in the goal location. Thus, the goal of your agent is to maintain its position at the target location for as many time steps as possible.\n",
    "\n",
    "The observation space consists of `33` variables corresponding to position, rotation, velocity, and angular velocities of the arm.  Each action is a vector with four numbers, corresponding to torque applicable to two joints.  Every entry in the action vector must be a number between `-1` and `1`.\n",
    "\n",
    "Run the code cell below to print some information about the environment."
   ]
  },
  {
   "cell_type": "code",
   "execution_count": 4,
   "metadata": {},
   "outputs": [
    {
     "name": "stdout",
     "output_type": "stream",
     "text": [
      "Number of agents: 20\n",
      "Size of each action: 4\n",
      "There are 20 agents. Each observes a state with length: 33\n",
      "The state for the first agent looks like: [ 0.00000000e+00 -4.00000000e+00  0.00000000e+00  1.00000000e+00\n",
      " -0.00000000e+00 -0.00000000e+00 -4.37113883e-08  0.00000000e+00\n",
      "  0.00000000e+00  0.00000000e+00  0.00000000e+00  0.00000000e+00\n",
      "  0.00000000e+00  0.00000000e+00 -1.00000000e+01  0.00000000e+00\n",
      "  1.00000000e+00 -0.00000000e+00 -0.00000000e+00 -4.37113883e-08\n",
      "  0.00000000e+00  0.00000000e+00  0.00000000e+00  0.00000000e+00\n",
      "  0.00000000e+00  0.00000000e+00  5.75471878e+00 -1.00000000e+00\n",
      "  5.55726624e+00  0.00000000e+00  1.00000000e+00  0.00000000e+00\n",
      " -1.68164849e-01]\n"
     ]
    }
   ],
   "source": [
    "# reset the environment\n",
    "env_info = env.reset(train_mode=True)[brain_name]\n",
    "\n",
    "# number of agents\n",
    "num_agents = len(env_info.agents)\n",
    "print('Number of agents:', num_agents)\n",
    "\n",
    "# size of each action\n",
    "action_size = brain.vector_action_space_size\n",
    "print('Size of each action:', action_size)\n",
    "\n",
    "# examine the state space \n",
    "states = env_info.vector_observations\n",
    "state_size = states.shape[1]\n",
    "print('There are {} agents. Each observes a state with length: {}'.format(states.shape[0], state_size))\n",
    "print('The state for the first agent looks like:', states[0])"
   ]
  },
  {
   "cell_type": "markdown",
   "metadata": {},
   "source": [
    "### 3. Training DDPG agent in the Environment"
   ]
  },
  {
   "cell_type": "code",
   "execution_count": 5,
   "metadata": {},
   "outputs": [
    {
     "name": "stdout",
     "output_type": "stream",
     "text": [
      "[1] Avg. score (last 100 ep.): 0.87. This episode: 0.87, min: 0.00, max: 1.95\n",
      "[2] Avg. score (last 100 ep.): 0.51. This episode: 0.15, min: 0.00, max: 0.55\n",
      "[3] Avg. score (last 100 ep.): 0.48. This episode: 0.44, min: 0.00, max: 1.39\n",
      "[4] Avg. score (last 100 ep.): 0.39. This episode: 0.11, min: 0.00, max: 0.34\n",
      "[5] Avg. score (last 100 ep.): 0.36. This episode: 0.21, min: 0.00, max: 2.24\n",
      "[6] Avg. score (last 100 ep.): 0.32. This episode: 0.13, min: 0.00, max: 0.65\n",
      "[7] Avg. score (last 100 ep.): 0.33. This episode: 0.41, min: 0.00, max: 1.67\n",
      "[8] Avg. score (last 100 ep.): 0.34. This episode: 0.36, min: 0.00, max: 1.40\n",
      "[9] Avg. score (last 100 ep.): 0.37. This episode: 0.66, min: 0.00, max: 1.55\n",
      "[10] Avg. score (last 100 ep.): 0.50. This episode: 1.63, min: 0.29, max: 3.82\n",
      "[11] Avg. score (last 100 ep.): 0.56. This episode: 1.20, min: 0.00, max: 2.40\n",
      "[12] Avg. score (last 100 ep.): 0.63. This episode: 1.36, min: 0.08, max: 2.84\n",
      "[13] Avg. score (last 100 ep.): 0.67. This episode: 1.22, min: 0.00, max: 2.29\n",
      "[14] Avg. score (last 100 ep.): 0.76. This episode: 1.86, min: 0.78, max: 4.43\n",
      "[15] Avg. score (last 100 ep.): 0.83. This episode: 1.90, min: 0.34, max: 4.97\n",
      "[16] Avg. score (last 100 ep.): 0.91. This episode: 2.08, min: 0.52, max: 4.95\n",
      "[17] Avg. score (last 100 ep.): 1.04. This episode: 3.04, min: 0.90, max: 6.19\n",
      "[18] Avg. score (last 100 ep.): 1.19. This episode: 3.86, min: 1.76, max: 6.91\n",
      "[19] Avg. score (last 100 ep.): 1.35. This episode: 4.12, min: 1.08, max: 8.14\n",
      "[20] Avg. score (last 100 ep.): 1.58. This episode: 6.04, min: 3.22, max: 9.59\n",
      "[21] Avg. score (last 100 ep.): 1.90. This episode: 8.31, min: 1.93, max: 14.19\n",
      "[22] Avg. score (last 100 ep.): 2.30. This episode: 10.57, min: 3.91, max: 21.85\n",
      "[23] Avg. score (last 100 ep.): 2.79. This episode: 13.74, min: 6.59, max: 23.40\n",
      "[24] Avg. score (last 100 ep.): 3.22. This episode: 12.94, min: 5.04, max: 21.90\n",
      "[25] Avg. score (last 100 ep.): 3.65. This episode: 14.04, min: 9.61, max: 19.34\n",
      "[26] Avg. score (last 100 ep.): 4.13. This episode: 16.26, min: 8.64, max: 28.95\n",
      "[27] Avg. score (last 100 ep.): 4.68. This episode: 18.84, min: 10.86, max: 38.75\n",
      "[28] Avg. score (last 100 ep.): 5.20. This episode: 19.21, min: 12.68, max: 34.93\n",
      "[29] Avg. score (last 100 ep.): 5.74. This episode: 20.90, min: 14.90, max: 25.00\n",
      "[30] Avg. score (last 100 ep.): 6.15. This episode: 18.00, min: 12.57, max: 27.25\n",
      "[31] Avg. score (last 100 ep.): 6.67. This episode: 22.28, min: 14.77, max: 38.11\n",
      "[32] Avg. score (last 100 ep.): 7.26. This episode: 25.51, min: 14.95, max: 38.05\n",
      "[33] Avg. score (last 100 ep.): 7.84. This episode: 26.40, min: 15.81, max: 38.80\n",
      "[34] Avg. score (last 100 ep.): 8.38. This episode: 26.26, min: 14.19, max: 39.46\n",
      "[35] Avg. score (last 100 ep.): 8.94. This episode: 28.07, min: 16.70, max: 38.66\n",
      "[36] Avg. score (last 100 ep.): 9.50. This episode: 29.11, min: 22.54, max: 37.54\n",
      "[37] Avg. score (last 100 ep.): 10.11. This episode: 31.93, min: 22.57, max: 36.44\n",
      "[38] Avg. score (last 100 ep.): 10.72. This episode: 33.35, min: 28.65, max: 38.84\n",
      "[39] Avg. score (last 100 ep.): 11.33. This episode: 34.40, min: 24.98, max: 39.04\n",
      "[40] Avg. score (last 100 ep.): 11.88. This episode: 33.23, min: 26.48, max: 38.12\n",
      "[41] Avg. score (last 100 ep.): 12.38. This episode: 32.38, min: 23.70, max: 39.20\n",
      "[42] Avg. score (last 100 ep.): 12.95. This episode: 36.37, min: 27.13, max: 39.50\n",
      "[43] Avg. score (last 100 ep.): 13.52. This episode: 37.73, min: 30.64, max: 39.37\n",
      "[44] Avg. score (last 100 ep.): 14.02. This episode: 35.47, min: 27.87, max: 39.07\n",
      "[45] Avg. score (last 100 ep.): 14.52. This episode: 36.63, min: 31.75, max: 39.51\n",
      "[46] Avg. score (last 100 ep.): 15.01. This episode: 37.05, min: 27.73, max: 39.09\n",
      "[47] Avg. score (last 100 ep.): 15.48. This episode: 36.95, min: 32.47, max: 39.22\n",
      "[48] Avg. score (last 100 ep.): 15.92. This episode: 36.65, min: 29.53, max: 38.46\n",
      "[49] Avg. score (last 100 ep.): 16.37. This episode: 37.85, min: 34.08, max: 39.52\n",
      "[50] Avg. score (last 100 ep.): 16.79. This episode: 37.41, min: 33.20, max: 39.23\n",
      "[51] Avg. score (last 100 ep.): 17.22. This episode: 38.48, min: 35.64, max: 39.48\n",
      "[52] Avg. score (last 100 ep.): 17.60. This episode: 37.39, min: 31.66, max: 39.18\n",
      "[53] Avg. score (last 100 ep.): 18.00. This episode: 38.85, min: 36.82, max: 39.55\n",
      "[54] Avg. score (last 100 ep.): 18.37. This episode: 37.89, min: 36.00, max: 39.57\n",
      "[55] Avg. score (last 100 ep.): 18.74. This episode: 38.71, min: 37.90, max: 39.48\n",
      "[56] Avg. score (last 100 ep.): 19.09. This episode: 38.15, min: 36.88, max: 39.05\n",
      "[57] Avg. score (last 100 ep.): 19.43. This episode: 38.82, min: 37.84, max: 39.50\n",
      "[58] Avg. score (last 100 ep.): 19.76. This episode: 38.10, min: 34.74, max: 39.42\n",
      "[59] Avg. score (last 100 ep.): 20.06. This episode: 37.59, min: 34.26, max: 38.91\n",
      "[60] Avg. score (last 100 ep.): 20.36. This episode: 38.28, min: 37.16, max: 39.52\n",
      "[61] Avg. score (last 100 ep.): 20.67. This episode: 39.10, min: 38.20, max: 39.50\n",
      "[62] Avg. score (last 100 ep.): 20.97. This episode: 39.08, min: 38.31, max: 39.58\n",
      "[63] Avg. score (last 100 ep.): 21.24. This episode: 38.07, min: 35.18, max: 39.10\n",
      "[64] Avg. score (last 100 ep.): 21.49. This episode: 37.31, min: 34.86, max: 39.07\n",
      "[65] Avg. score (last 100 ep.): 21.76. This episode: 38.80, min: 36.68, max: 39.51\n",
      "[66] Avg. score (last 100 ep.): 22.00. This episode: 37.77, min: 35.75, max: 39.04\n",
      "[67] Avg. score (last 100 ep.): 22.25. This episode: 38.62, min: 36.63, max: 39.51\n",
      "[68] Avg. score (last 100 ep.): 22.47. This episode: 37.65, min: 34.35, max: 39.09\n",
      "[69] Avg. score (last 100 ep.): 22.71. This episode: 38.85, min: 37.39, max: 39.58\n",
      "[70] Avg. score (last 100 ep.): 22.94. This episode: 38.77, min: 37.85, max: 39.46\n",
      "[71] Avg. score (last 100 ep.): 23.15. This episode: 37.68, min: 35.57, max: 39.11\n",
      "[72] Avg. score (last 100 ep.): 23.37. This episode: 39.12, min: 37.89, max: 39.62\n",
      "[73] Avg. score (last 100 ep.): 23.57. This episode: 38.36, min: 36.36, max: 39.38\n",
      "[74] Avg. score (last 100 ep.): 23.77. This episode: 38.39, min: 36.90, max: 39.42\n",
      "[75] Avg. score (last 100 ep.): 23.97. This episode: 38.05, min: 35.09, max: 39.23\n",
      "[76] Avg. score (last 100 ep.): 24.15. This episode: 38.04, min: 34.11, max: 39.24\n",
      "[77] Avg. score (last 100 ep.): 24.33. This episode: 38.35, min: 35.42, max: 39.58\n",
      "[78] Avg. score (last 100 ep.): 24.51. This episode: 38.13, min: 34.87, max: 39.32\n",
      "[79] Avg. score (last 100 ep.): 24.69. This episode: 38.54, min: 34.36, max: 39.42\n",
      "[80] Avg. score (last 100 ep.): 24.86. This episode: 38.01, min: 35.66, max: 39.10\n",
      "[81] Avg. score (last 100 ep.): 25.03. This episode: 38.68, min: 36.52, max: 39.63\n",
      "[82] Avg. score (last 100 ep.): 25.18. This episode: 37.65, min: 35.05, max: 38.98\n",
      "[83] Avg. score (last 100 ep.): 25.34. This episode: 38.27, min: 34.91, max: 39.64\n",
      "[84] Avg. score (last 100 ep.): 25.49. This episode: 38.49, min: 33.33, max: 39.65\n",
      "[85] Avg. score (last 100 ep.): 25.64. This episode: 38.09, min: 36.55, max: 39.42\n",
      "[86] Avg. score (last 100 ep.): 25.78. This episode: 37.71, min: 35.63, max: 38.99\n",
      "[87] Avg. score (last 100 ep.): 25.93. This episode: 38.17, min: 36.96, max: 39.49\n",
      "[88] Avg. score (last 100 ep.): 26.06. This episode: 37.89, min: 34.24, max: 38.92\n",
      "[89] Avg. score (last 100 ep.): 26.20. This episode: 38.82, min: 36.67, max: 39.65\n",
      "[90] Avg. score (last 100 ep.): 26.33. This episode: 37.55, min: 33.61, max: 39.44\n",
      "[91] Avg. score (last 100 ep.): 26.47. This episode: 38.94, min: 36.62, max: 39.66\n",
      "[92] Avg. score (last 100 ep.): 26.60. This episode: 38.66, min: 37.07, max: 39.47\n",
      "[93] Avg. score (last 100 ep.): 26.72. This episode: 37.36, min: 32.88, max: 39.56\n",
      "[94] Avg. score (last 100 ep.): 26.83. This episode: 37.14, min: 34.13, max: 38.56\n",
      "[95] Avg. score (last 100 ep.): 26.95. This episode: 38.09, min: 36.11, max: 39.56\n",
      "[96] Avg. score (last 100 ep.): 27.07. This episode: 38.52, min: 34.95, max: 39.65\n",
      "[97] Avg. score (last 100 ep.): 27.18. This episode: 37.78, min: 33.48, max: 39.36\n",
      "[98] Avg. score (last 100 ep.): 27.28. This episode: 37.12, min: 33.60, max: 38.75\n",
      "[99] Avg. score (last 100 ep.): 27.38. This episode: 37.03, min: 30.65, max: 39.52\n",
      "[100] Avg. score (last 100 ep.): 27.45. This episode: 34.99, min: 28.71, max: 37.89\n",
      "[101] Avg. score (last 100 ep.): 27.82. This episode: 37.09, min: 32.88, max: 38.61\n"
     ]
    },
    {
     "name": "stdout",
     "output_type": "stream",
     "text": [
      "[102] Avg. score (last 100 ep.): 28.19. This episode: 37.43, min: 31.24, max: 39.47\n",
      "[103] Avg. score (last 100 ep.): 28.55. This episode: 36.67, min: 31.89, max: 39.29\n",
      "[104] Avg. score (last 100 ep.): 28.92. This episode: 37.24, min: 34.01, max: 39.08\n",
      "[105] Avg. score (last 100 ep.): 29.29. This episode: 37.01, min: 31.14, max: 39.59\n",
      "[106] Avg. score (last 100 ep.): 29.67. This episode: 37.67, min: 35.90, max: 39.00\n",
      "[107] Avg. score (last 100 ep.): 30.03. This episode: 36.62, min: 29.24, max: 39.12\n",
      "[108] Avg. score (last 100 ep.): 30.38. This episode: 35.64, min: 31.33, max: 38.74\n",
      "[109] Avg. score (last 100 ep.): 30.74. This episode: 36.20, min: 32.72, max: 38.74\n",
      "[110] Avg. score (last 100 ep.): 31.10. This episode: 38.42, min: 37.09, max: 39.27\n",
      "[111] Avg. score (last 100 ep.): 31.47. This episode: 38.19, min: 35.65, max: 39.28\n",
      "[112] Avg. score (last 100 ep.): 31.83. This episode: 36.64, min: 31.43, max: 39.12\n",
      "[113] Avg. score (last 100 ep.): 32.19. This episode: 37.37, min: 33.90, max: 39.12\n",
      "[114] Avg. score (last 100 ep.): 32.53. This episode: 36.36, min: 34.22, max: 38.43\n",
      "[115] Avg. score (last 100 ep.): 32.88. This episode: 36.64, min: 34.44, max: 38.92\n",
      "[116] Avg. score (last 100 ep.): 33.23. This episode: 36.70, min: 33.09, max: 39.26\n",
      "[117] Avg. score (last 100 ep.): 33.57. This episode: 36.90, min: 34.07, max: 38.45\n",
      "[118] Avg. score (last 100 ep.): 33.91. This episode: 37.83, min: 36.10, max: 39.45\n",
      "[119] Avg. score (last 100 ep.): 34.23. This episode: 36.63, min: 33.73, max: 38.91\n",
      "[120] Avg. score (last 100 ep.): 34.55. This episode: 37.65, min: 35.79, max: 39.03\n",
      "[121] Avg. score (last 100 ep.): 34.84. This episode: 38.02, min: 34.35, max: 39.41\n",
      "[122] Avg. score (last 100 ep.): 35.11. This episode: 36.90, min: 34.18, max: 39.10\n",
      "[123] Avg. score (last 100 ep.): 35.35. This episode: 38.14, min: 36.24, max: 39.34\n",
      "[124] Avg. score (last 100 ep.): 35.60. This episode: 37.66, min: 35.60, max: 39.49\n",
      "[125] Avg. score (last 100 ep.): 35.83. This episode: 36.78, min: 33.61, max: 38.54\n",
      "[126] Avg. score (last 100 ep.): 36.04. This episode: 37.93, min: 36.14, max: 39.43\n",
      "[127] Avg. score (last 100 ep.): 36.21. This episode: 35.86, min: 31.47, max: 38.43\n",
      "[128] Avg. score (last 100 ep.): 36.39. This episode: 37.26, min: 34.62, max: 39.60\n",
      "[129] Avg. score (last 100 ep.): 36.55. This episode: 36.35, min: 34.06, max: 38.04\n",
      "[130] Avg. score (last 100 ep.): 36.74. This episode: 37.25, min: 34.70, max: 39.36\n",
      "[131] Avg. score (last 100 ep.): 36.88. This episode: 36.07, min: 33.41, max: 38.46\n",
      "[132] Avg. score (last 100 ep.): 37.00. This episode: 37.48, min: 34.76, max: 39.21\n",
      "[133] Avg. score (last 100 ep.): 37.11. This episode: 37.20, min: 31.26, max: 38.98\n",
      "[134] Avg. score (last 100 ep.): 37.20. This episode: 35.61, min: 30.50, max: 37.52\n",
      "[135] Avg. score (last 100 ep.): 37.29. This episode: 37.13, min: 35.55, max: 38.94\n",
      "[136] Avg. score (last 100 ep.): 37.37. This episode: 37.06, min: 35.08, max: 38.54\n",
      "Environment solved after 136 epsisodes\n"
     ]
    }
   ],
   "source": [
    "def train_agent(agent, n_episodes=10000, max_t=2000, learn_every=20, num_learn=10, goal=30.):\n",
    "    avg_scores, min_scores, max_scores = [], [], []\n",
    "    for i_episode in range(1, n_episodes+1):\n",
    "        \n",
    "        # Setup environment.\n",
    "        env_info = env.reset(train_mode=True)[brain_name]\n",
    "        states = env_info.vector_observations\n",
    "        scores = np.zeros(num_agents)\n",
    "        agent.reset()\n",
    "                \n",
    "        for t in range(max_t):\n",
    "            # Episode loop.\n",
    "            actions = agent.act(states)\n",
    "            \n",
    "            env_info = env.step(actions)[brain_name]\n",
    "            next_states = env_info.vector_observations\n",
    "            rewards = env_info.rewards\n",
    "            \n",
    "            dones = env_info.local_done\n",
    "            \n",
    "            for state, action, reward, next_state, done in zip(states, actions, rewards, next_states, dones):\n",
    "                agent.step(state, action, reward, next_state, done)\n",
    "            \n",
    "            scores += env_info.rewards\n",
    "            states = next_states\n",
    "            \n",
    "            if t % learn_every == 0:\n",
    "                for _ in range(num_learn):\n",
    "                    agent.start_learn()\n",
    "            \n",
    "            if np.any(dones):\n",
    "                break\n",
    "    \n",
    "        avg_scores.append(np.mean(scores))\n",
    "        min_scores.append(np.min(scores))\n",
    "        max_scores.append(np.max(scores))\n",
    "        print('[{}] Avg. score (last 100 ep.): {:.2f}. This episode: {:.2f}, min: {:.2f}, max: {:.2f}'\n",
    "              .format(i_episode, np.mean(avg_scores[-100:]), avg_scores[-1], min_scores[-1], max_scores[-1]))\n",
    "        \n",
    "        if len([1 for x in avg_scores[-100:] if x >= goal]) >= 100:\n",
    "            print('Environment solved after {} epsisodes'.format(i_episode))\n",
    "            torch.save(agent.actor_local.state_dict(), 'actor_weights.pth')\n",
    "            torch.save(agent.critic_local.state_dict(), 'critic_weights.pth')\n",
    "            break\n",
    "    \n",
    "    return avg_scores, min_scores, max_scores\n",
    "\n",
    "scores, min_scores, max_scores = train_agent(Agent(state_size=state_size, action_size=action_size, seed=1024))"
   ]
  },
  {
   "cell_type": "code",
   "execution_count": 6,
   "metadata": {},
   "outputs": [
    {
     "data": {
      "image/png": "[encoded data removed]",
      "text/plain": [
       "<Figure size 864x360 with 1 Axes>"
      ]
     },
     "metadata": {
      "needs_background": "light"
     },
     "output_type": "display_data"
    }
   ],
   "source": [
    "fig, ax = plt.subplots(1, 1, figsize=(12, 5))\n",
    "ax.plot(range(1, len(scores) + 1), scores, lw=3)\n",
    "ax.fill_between(range(1, len(scores) + 1), min_scores, max_scores, alpha=.5)\n",
    "ax.hlines(30., 1, len(scores) + 1, colors='k', linestyles='dashed', label='goal')\n",
    "ax.set_xlabel('Episode')\n",
    "ax.set_ylabel('Score')\n",
    "ax.set_title('Average, min and max score achived by DDPG agent for each epoch @ Reacher environment')\n",
    "ax.grid()\n",
    "plt.tight_layout()"
   ]
  },
  {
   "cell_type": "markdown",
   "metadata": {},
   "source": [
    "When finished, you can close the environment."
   ]
  },
  {
   "cell_type": "code",
   "execution_count": 7,
   "metadata": {},
   "outputs": [],
   "source": [
    "env.close()"
   ]
  }
 ],
 "metadata": {
  "kernelspec": {
   "display_name": "Python 3",
   "language": "python",
   "name": "python3"
  },
  "language_info": {
   "codemirror_mode": {
    "name": "ipython",
    "version": 3
   },
   "file_extension": ".py",
   "mimetype": "text/x-python",
   "name": "python",
   "nbconvert_exporter": "python",
   "pygments_lexer": "ipython3",
   "version": "3.6.8"
  }
 },
 "nbformat": 4,
 "nbformat_minor": 2
}
